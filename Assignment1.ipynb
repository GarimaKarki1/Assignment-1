{
 "cells": [
  {
   "cell_type": "code",
   "execution_count": 1,
   "id": "b0d1cd08-3c68-4b8a-b6b7-a74f3c2c08de",
   "metadata": {},
   "outputs": [
    {
     "name": "stdin",
     "output_type": "stream",
     "text": [
      "Enter first name: Garima\n",
      "Enter last name: Karki\n"
     ]
    },
    {
     "name": "stdout",
     "output_type": "stream",
     "text": [
      "Karki Garima\n"
     ]
    }
   ],
   "source": [
    "first=input('Enter first name:')\n",
    "last=input('Enter last name:')\n",
    "print(last,first)"
   ]
  },
  {
   "cell_type": "code",
   "execution_count": 2,
   "id": "5e824783-e169-48cd-9add-9e345944508b",
   "metadata": {},
   "outputs": [
    {
     "name": "stdout",
     "output_type": "stream",
     "text": [
      "HELLO, WORLD!\n",
      "hello, Python!\n"
     ]
    }
   ],
   "source": [
    "my_string = \"hello, world!\"\n",
    "print(my_string.upper()) #changes whole text to upper case \n",
    "print(my_string.replace(\"world\", \"Python\")) #replaces world with python"
   ]
  },
  {
   "cell_type": "code",
   "execution_count": 3,
   "id": "0670ceca-f884-4234-b5f5-30499882b3f9",
   "metadata": {},
   "outputs": [
    {
     "name": "stdin",
     "output_type": "stream",
     "text": [
      "Enter a number: 1\n"
     ]
    },
    {
     "name": "stdout",
     "output_type": "stream",
     "text": [
      "Converted to int: 1\n",
      "converted to float: 1.0\n",
      "converted to complex: (1+0j)\n"
     ]
    }
   ],
   "source": [
    "number= input(\"Enter a number:\")\n",
    "i=int(number) #represents whole numbers\n",
    "f=float(number) #represents real numbers that have a decimal point\n",
    "c=complex(number) #represents complex numbers in the form of (a+bj), where a is real part and b is imaginary part\n",
    "print( \"Converted to int:\", i)\n",
    "print(\"converted to float:\",f)\n",
    "print (\"converted to complex:\", c)"
   ]
  },
  {
   "cell_type": "code",
   "execution_count": 4,
   "id": "711b1959-92b0-40ba-863b-a43c68df86bf",
   "metadata": {},
   "outputs": [
    {
     "name": "stdin",
     "output_type": "stream",
     "text": [
      "Enter length: 5\n",
      "Enter width: 9\n"
     ]
    },
    {
     "name": "stdout",
     "output_type": "stream",
     "text": [
      "Area of rectangle: 45\n"
     ]
    }
   ],
   "source": [
    "length=int(input('Enter length:'))\n",
    "width =int(input('Enter width:'))\n",
    "area= length*width\n",
    "print(\"Area of rectangle:\", area)"
   ]
  },
  {
   "cell_type": "code",
   "execution_count": 5,
   "id": "6ecd700a-5486-4c8c-b87a-8e1da0d2f538",
   "metadata": {},
   "outputs": [
    {
     "name": "stdin",
     "output_type": "stream",
     "text": [
      "Enter number 1: 3\n",
      "Enter number 2: 4\n",
      "Enter number 3: 5\n"
     ]
    },
    {
     "name": "stdout",
     "output_type": "stream",
     "text": [
      "Average: 0\n"
     ]
    }
   ],
   "source": [
    "n1=int(input(\"Enter number 1:\"))\n",
    "n2=int(input(\"Enter number 2:\"))\n",
    "n3=int(input(\"Enter number 3:\"))\n",
    "avg=(n1+n2+n3)%3\n",
    "print(\"Average:\",avg)"
   ]
  },
  {
   "cell_type": "code",
   "execution_count": 6,
   "id": "1f046758-4642-471b-9d55-d13eac183221",
   "metadata": {},
   "outputs": [
    {
     "name": "stdin",
     "output_type": "stream",
     "text": [
      "enter number: 4\n"
     ]
    },
    {
     "name": "stdout",
     "output_type": "stream",
     "text": [
      "The number 4 is positive\n"
     ]
    }
   ],
   "source": [
    "n=int(input(\"enter number:\"))\n",
    "if n > 0:\n",
    "    print(\"The number\",n,\"is positive\")\n",
    "elif n == 0:\n",
    "    print(\"The number\", n , \"is zero\")\n",
    "else :\n",
    "    print(\"The number\" , n, \"is negative\")\n"
   ]
  },
  {
   "cell_type": "code",
   "execution_count": 7,
   "id": "188a7bed-9e80-421a-ac3c-beb20d4c876d",
   "metadata": {},
   "outputs": [
    {
     "name": "stdin",
     "output_type": "stream",
     "text": [
      "Enter a number (or type 'exit' to quit):  3\n",
      "Enter a number (or type 'exit' to quit):  4\n",
      "Enter a number (or type 'exit' to quit):  5\n",
      "Enter a number (or type 'exit' to quit):  exit\n"
     ]
    },
    {
     "name": "stdout",
     "output_type": "stream",
     "text": [
      "Exiting the loop.\n"
     ]
    }
   ],
   "source": [
    "while True:\n",
    "    user_input = input(\"Enter a number (or type 'exit' to quit): \")\n",
    "\n",
    "    if user_input == 'exit':\n",
    "        print(\"Exiting the loop.\")\n",
    "        break\n",
    "    else: \n",
    "        continue"
   ]
  },
  {
   "cell_type": "code",
   "execution_count": 8,
   "id": "2c7c9af0-fb17-4570-b9ad-ea7679f86c03",
   "metadata": {},
   "outputs": [
    {
     "name": "stdin",
     "output_type": "stream",
     "text": [
      "enter number 1: 2\n",
      "enter number 2: 5\n"
     ]
    },
    {
     "name": "stdout",
     "output_type": "stream",
     "text": [
      "One number is even, and the other is odd.\n"
     ]
    }
   ],
   "source": [
    "num1=int(input(\"enter number 1:\"))\n",
    "num2=int(input(\"enter number 2:\"))\n",
    "# Check if both numbers are even\n",
    "if num1 % 2 == 0 and num2 % 2 == 0:\n",
    "    print(\"Both numbers are even.\")\n",
    "# Check if both numbers are odd\n",
    "elif num1 % 2 != 0 and num2 % 2 != 0:\n",
    "    print(\"Both numbers are odd.\")\n",
    "# Otherwise, one is even and the other is odd\n",
    "else:\n",
    "    print(\"One number is even, and the other is odd.\")"
   ]
  },
  {
   "cell_type": "code",
   "execution_count": 9,
   "id": "807ac4b0-3d55-407a-8be3-f37b87cf0e76",
   "metadata": {},
   "outputs": [
    {
     "name": "stdin",
     "output_type": "stream",
     "text": [
      "Enter an integer:  4\n"
     ]
    },
    {
     "name": "stdout",
     "output_type": "stream",
     "text": [
      "Binary equivalent: 100\n",
      "Octal equivalent: 4\n",
      "Hexadecimal equivalent: 4\n"
     ]
    }
   ],
   "source": [
    "# Get integer input from the user\n",
    "num = int(input(\"Enter an integer: \"))\n",
    "\n",
    "# Initialize empty strings to store the binary, octal, and hexadecimal equivalents\n",
    "binary = \"\"\n",
    "octal = \"\"\n",
    "hexadecimal = \"\"\n",
    "\n",
    "# For loop to generate binary, octal, and hexadecimal strings\n",
    "for shift in range(num.bit_length(), -1, -1):\n",
    "    # Generate the binary equivalent\n",
    "    binary += \"1\" if (num & (1 << shift)) else \"0\"\n",
    "    \n",
    "# Remove leading zeros from the binary string\n",
    "binary = binary.lstrip(\"0\") or \"0\"\n",
    "\n",
    "# For octal and hexadecimal, we use Python's built-in format functions\n",
    "octal = format(num, 'o')\n",
    "hexadecimal = format(num, 'x')\n",
    "\n",
    "# Print the results\n",
    "print(f\"Binary equivalent: {binary}\")\n",
    "print(f\"Octal equivalent: {octal}\")\n",
    "print(f\"Hexadecimal equivalent: {hexadecimal}\")"
   ]
  },
  {
   "cell_type": "code",
   "execution_count": null,
   "id": "129da7d0-283b-4389-8869-b3bd35e5807e",
   "metadata": {},
   "outputs": [],
   "source": []
  }
 ],
 "metadata": {
  "kernelspec": {
   "display_name": "Python 3 (ipykernel)",
   "language": "python",
   "name": "python3"
  },
  "language_info": {
   "codemirror_mode": {
    "name": "ipython",
    "version": 3
   },
   "file_extension": ".py",
   "mimetype": "text/x-python",
   "name": "python",
   "nbconvert_exporter": "python",
   "pygments_lexer": "ipython3",
   "version": "3.13.0"
  }
 },
 "nbformat": 4,
 "nbformat_minor": 5
}
